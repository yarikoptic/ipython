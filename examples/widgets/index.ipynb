{
 "metadata": {
  "name": ""
 },
 "nbformat": 3,
 "nbformat_minor": 0,
 "worksheets": [
  {
   "cells": [
    {
     "cell_type": "heading",
     "level": 1,
     "metadata": {},
     "source": [
      "Widgets"
     ]
    },
    {
     "cell_type": "markdown",
     "metadata": {},
     "source": [
      "This directory includes a tutorial and collection of examples related to the IPython notebook widget framework."
     ]
    },
    {
     "cell_type": "heading",
     "level": 2,
     "metadata": {},
     "source": [
      "Tutorial"
     ]
    },
    {
     "cell_type": "markdown",
     "metadata": {},
     "source": [
      "- [Part 1 - Basics](Part 1 - Basics.ipynb)  \n",
      "- [Part 2 - Events](Part 2 - Events.ipynb)  \n",
      "- [Part 3 - Placement](Part 3 - Placement.ipynb)  \n",
      "- [Part 4 - Styles](Part 4 - Styles.ipynb)  \n",
      "- [Part 5 - Alignment](Part 5 - Alignment.ipynb)  \n",
      "- [Part 6 - Custom Widget](Part 6 - Custom Widget.ipynb)  "
     ]
    },
    {
     "cell_type": "heading",
     "level": 2,
     "metadata": {},
     "source": [
      "Examples"
     ]
    },
    {
     "cell_type": "markdown",
     "metadata": {},
     "source": [
      "- [Variable Inspector](Variable Inspector.ipynb)  \n",
      "- [Export As (nbconvert)](Export As (nbconvert%29.ipynb)  \n",
      "- [Nonblocking Console](Nonblocking Console.ipynb)  \n",
      "- [File Upload Widget](File Upload Widget.ipynb)\n",
      "- [Interacting with Python code](Interact.ipynb)\n",
      "- [Interacting with the Lorenz System](Lorenz.ipynb)"
     ]
    }
   ],
   "metadata": {}
  }
 ]
}