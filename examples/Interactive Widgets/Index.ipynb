{
 "metadata": {
  "name": "",
  "signature": "sha256:1aeb403a0ea9cc1412348f98ec713b798e197bed05d8bb28de6824095758487b"
 },
 "nbformat": 3,
 "nbformat_minor": 0,
 "worksheets": [
  {
   "cells": [
    {
     "cell_type": "markdown",
     "metadata": {},
     "source": [
      "<img src=\"../images/ipython_logo.png\">"
     ]
    },
    {
     "cell_type": "markdown",
     "metadata": {},
     "source": [
      "Back to the main [Index](../Index.ipynb)"
     ]
    },
    {
     "cell_type": "heading",
     "level": 1,
     "metadata": {},
     "source": [
      "Interactive Widgets"
     ]
    },
    {
     "cell_type": "markdown",
     "metadata": {},
     "source": [
      "IPython includes an architecture for interactive widgets that tie together Python code running in the kernel and JavaScript/HTML/CSS  running in the browser. These widgets enable users to explore their code and data interactively."
     ]
    },
    {
     "cell_type": "heading",
     "level": 2,
     "metadata": {},
     "source": [
      "Tutorials"
     ]
    },
    {
     "cell_type": "markdown",
     "metadata": {},
     "source": [
      "- [Using Interact](Using Interact.ipynb)\n",
      "- [Widget Basics](Widget Basic.ipynb)  \n",
      "- [Widget Events](Widget Events.ipynb)  \n",
      "- [Widget Placement](Widget Placement.ipynb)  \n",
      "- [Widget Styles](Widget Styles.ipynb)  \n",
      "- [Widget Alignment](Widget Alignment.ipynb)  \n",
      "- [Custom Widgets](Custom Widgets.ipynb)"
     ]
    },
    {
     "cell_type": "heading",
     "level": 2,
     "metadata": {},
     "source": [
      "Examples of custom widgets"
     ]
    },
    {
     "cell_type": "markdown",
     "metadata": {},
     "source": [
      "- [Variable Inspector](Variable Inspector.ipynb)  \n",
      "- [Export As (nbconvert)](Export As (nbconvert%29.ipynb)  \n",
      "- [Nonblocking Console](Nonblocking Console.ipynb)  \n",
      "- [File Upload Widget](File Upload Widget.ipynb)"
     ]
    },
    {
     "cell_type": "heading",
     "level": 2,
     "metadata": {},
     "source": [
      "Examples using `interact`/`interactive`"
     ]
    },
    {
     "cell_type": "markdown",
     "metadata": {},
     "source": [
      "* [Beat Frequencies](Beat Frequencies.ipynb)\n",
      "* [Exploring Graphs](Exploring Graphs.ipynb)\n",
      "* [Factoring](Factoring.ipynb)\n",
      "* [Image Browser](Image Browser.ipynb)\n",
      "* [Image Processing](Image Processing.ipynb)\n",
      "* [Lorenz Differential Equations](Lorenz Differential Equations.ipynb)"
     ]
    }
   ],
   "metadata": {}
  }
 ]
}