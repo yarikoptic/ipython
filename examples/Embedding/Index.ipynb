{
 "metadata": {
  "name": "",
  "signature": "sha256:627cdf03b8de558c9344f9d1e8f0beeb2448e37e492d676e6db7b07d33251a2b"
 },
 "nbformat": 3,
 "nbformat_minor": 0,
 "worksheets": [
  {
   "cells": [
    {
     "cell_type": "markdown",
     "metadata": {},
     "source": [
      "<img src=\"../images/ipython_logo.png\">"
     ]
    },
    {
     "cell_type": "markdown",
     "metadata": {},
     "source": [
      "Back to the main [Index](../Index.ipynb)"
     ]
    },
    {
     "cell_type": "heading",
     "level": 1,
     "metadata": {},
     "source": [
      "Embedding IPython Into Other Applications"
     ]
    },
    {
     "cell_type": "markdown",
     "metadata": {},
     "source": [
      "The architecture of IPython is built with reusable components. These components include:\n",
      "\n",
      "* The configuration system for processing command line arguments and configuration files\n",
      "* The IPython `InteractiveShell` object that provides the core interactive features across the entire code base\n",
      "* The IPython kernel, which provides the capabilities of the `InteractiveShell` object over a ZeroMQ/JSON based message protocol to various frontends\n",
      "* The IPython frontends (Notebook, Qt Console, Console, Terminal)\n",
      "\n",
      "These components can be embedded into other applications."
     ]
    },
    {
     "cell_type": "heading",
     "level": 2,
     "metadata": {},
     "source": [
      "Tutorials"
     ]
    },
    {
     "cell_type": "markdown",
     "metadata": {},
     "source": [
      "Coming soon."
     ]
    },
    {
     "cell_type": "heading",
     "level": 2,
     "metadata": {},
     "source": [
      "Examples"
     ]
    },
    {
     "cell_type": "markdown",
     "metadata": {},
     "source": [
      "Coming soon."
     ]
    },
    {
     "cell_type": "heading",
     "level": 2,
     "metadata": {},
     "source": [
      "Non-notebook examples"
     ]
    },
    {
     "cell_type": "markdown",
     "metadata": {},
     "source": [
      "This directory also contains examples that are regular Python (`.py`) files."
     ]
    },
    {
     "cell_type": "code",
     "collapsed": false,
     "input": [
      "%run ../utils/list_pyfiles.ipy"
     ],
     "language": "python",
     "metadata": {},
     "outputs": [
      {
       "html": [
        "<a href='embed_class_long.py' target='_blank'>embed_class_long.py</a><br>"
       ],
       "metadata": {},
       "output_type": "display_data",
       "text": [
        "/Users/bgranger/Documents/Computing/IPython/code/ipython/examples/Embedding/embed_class_long.py"
       ]
      },
      {
       "html": [
        "<a href='embed_class_short.py' target='_blank'>embed_class_short.py</a><br>"
       ],
       "metadata": {},
       "output_type": "display_data",
       "text": [
        "/Users/bgranger/Documents/Computing/IPython/code/ipython/examples/Embedding/embed_class_short.py"
       ]
      },
      {
       "html": [
        "<a href='embed_function.py' target='_blank'>embed_function.py</a><br>"
       ],
       "metadata": {},
       "output_type": "display_data",
       "text": [
        "/Users/bgranger/Documents/Computing/IPython/code/ipython/examples/Embedding/embed_function.py"
       ]
      },
      {
       "html": [
        "<a href='inprocess_qtconsole.py' target='_blank'>inprocess_qtconsole.py</a><br>"
       ],
       "metadata": {},
       "output_type": "display_data",
       "text": [
        "/Users/bgranger/Documents/Computing/IPython/code/ipython/examples/Embedding/inprocess_qtconsole.py"
       ]
      },
      {
       "html": [
        "<a href='inprocess_terminal.py' target='_blank'>inprocess_terminal.py</a><br>"
       ],
       "metadata": {},
       "output_type": "display_data",
       "text": [
        "/Users/bgranger/Documents/Computing/IPython/code/ipython/examples/Embedding/inprocess_terminal.py"
       ]
      },
      {
       "html": [
        "<a href='internal_ipkernel.py' target='_blank'>internal_ipkernel.py</a><br>"
       ],
       "metadata": {},
       "output_type": "display_data",
       "text": [
        "/Users/bgranger/Documents/Computing/IPython/code/ipython/examples/Embedding/internal_ipkernel.py"
       ]
      },
      {
       "html": [
        "<a href='ipkernel_qtapp.py' target='_blank'>ipkernel_qtapp.py</a><br>"
       ],
       "metadata": {},
       "output_type": "display_data",
       "text": [
        "/Users/bgranger/Documents/Computing/IPython/code/ipython/examples/Embedding/ipkernel_qtapp.py"
       ]
      },
      {
       "html": [
        "<a href='ipkernel_wxapp.py' target='_blank'>ipkernel_wxapp.py</a><br>"
       ],
       "metadata": {},
       "output_type": "display_data",
       "text": [
        "/Users/bgranger/Documents/Computing/IPython/code/ipython/examples/Embedding/ipkernel_wxapp.py"
       ]
      }
     ],
     "prompt_number": 1
    }
   ],
   "metadata": {}
  }
 ]
}